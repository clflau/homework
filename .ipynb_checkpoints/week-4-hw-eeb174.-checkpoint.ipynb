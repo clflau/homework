{
 "cells": [
  {
   "cell_type": "code",
   "execution_count": 1,
   "metadata": {
    "collapsed": true
   },
   "outputs": [],
   "source": [
    "##Part1"
   ]
  },
  {
   "cell_type": "code",
   "execution_count": 2,
   "metadata": {
    "collapsed": true
   },
   "outputs": [],
   "source": [
    "#Complementing DNA\n",
    "dna = \"ACTGATCGATTACGTATAGTATTTGCTATCATACATATATATCGATGCGTTCAT\"\n"
   ]
  },
  {
   "cell_type": "code",
   "execution_count": 10,
   "metadata": {
    "collapsed": false
   },
   "outputs": [
    {
     "data": {
      "text/plain": [
       "'TGACTAGCTAATGCATATCATAAACGATAGTATGTATATATAGCTACGCAAGTA'"
      ]
     },
     "execution_count": 10,
     "metadata": {},
     "output_type": "execute_result"
    }
   ],
   "source": [
    "At = dna.replace(\"A\", \"t\")\n",
    "Ta = At.replace(\"T\", \"a\")\n",
    "Cg = Ta.replace(\"C\", \"g\")\n",
    "Gc = Cg.replace(\"G\", \"c\")\n",
    "complement = Gc.upper()\n",
    "complement"
   ]
  },
  {
   "cell_type": "code",
   "execution_count": 11,
   "metadata": {
    "collapsed": true
   },
   "outputs": [],
   "source": [
    "#Restriction fragment lengths\n",
    "dna = \"ACTGATCGATTACGTATAGTAGAATTCTATCATACATATATATCGATGCGTTCAT\"\n"
   ]
  },
  {
   "cell_type": "code",
   "execution_count": 26,
   "metadata": {
    "collapsed": false
   },
   "outputs": [
    {
     "name": "stdout",
     "output_type": "stream",
     "text": [
      "The position of the restriction site is 22\n",
      "The fragment sizes are 33 and 22\n"
     ]
    }
   ],
   "source": [
    "restriction_site = dna.find(\"AATTC\")\n",
    "print(\"The position of the restriction site is {}\".format(restriction_site))\n",
    "fragment1 = len(dna)-int(restriction_site)\n",
    "fragment2 = int(restriction_site)\n",
    "print(\"The fragment sizes are {} and {}\".format(fragment1, fragment2))"
   ]
  },
  {
   "cell_type": "code",
   "execution_count": 27,
   "metadata": {
    "collapsed": true
   },
   "outputs": [],
   "source": [
    "#Splicing out introns, part one\n",
    "dna = \"ATCGATCGATCGATCGACTGACTAGTCATAGCTATGCATGTAGCTACTCGATCGATCGATCGATCGATCGATCGATCGATCGATCATGCTATCATCGATCGATATCGATGCATCGACTACTAT\"\n"
   ]
  },
  {
   "cell_type": "code",
   "execution_count": 32,
   "metadata": {
    "collapsed": false
   },
   "outputs": [
    {
     "name": "stdout",
     "output_type": "stream",
     "text": [
      "ATCGATCGATCGATCGACTGACTAGTCATAGCTATGCATGTAGCTACTCGATCGATCGATCGATTCATCGATCGATATCGATGCATCGACTACTAT\n"
     ]
    }
   ],
   "source": [
    "exon1 = dna[0:64]\n",
    "exon2 = dna[91:len(dna)]\n",
    "print(exon1 + exon2)"
   ]
  },
  {
   "cell_type": "code",
   "execution_count": 35,
   "metadata": {
    "collapsed": false
   },
   "outputs": [
    {
     "data": {
      "text/plain": [
       "78.04878048780488"
      ]
     },
     "execution_count": 35,
     "metadata": {},
     "output_type": "execute_result"
    }
   ],
   "source": [
    "#Splicing out introns, part two\n",
    "coding = exon1 + exon2\n",
    "coding_percent = (len(coding)/len(dna))*100\n",
    "coding_percent"
   ]
  },
  {
   "cell_type": "code",
   "execution_count": 36,
   "metadata": {
    "collapsed": false
   },
   "outputs": [
    {
     "name": "stdout",
     "output_type": "stream",
     "text": [
      "ATCGATCGATCGATCGACTGACTAGTCATAGCTATGCATGTAGCTACTCGATCGATCGATCGATcgatcgatcgatcgatcgatcatgctaTCATCGATCGATATCGATGCATCGACTACTAT\n"
     ]
    }
   ],
   "source": [
    "#Splicing out introns, part three\n",
    "intron = dna[64:91]\n",
    "print(exon1 + intron.lower() + exon2)"
   ]
  },
  {
   "cell_type": "code",
   "execution_count": 1,
   "metadata": {
    "collapsed": true
   },
   "outputs": [],
   "source": [
    "##Part2"
   ]
  },
  {
   "cell_type": "code",
   "execution_count": 3,
   "metadata": {
    "collapsed": false
   },
   "outputs": [],
   "source": [
    "my_file = open(\"/home/eeb177-student/Desktop/eeb-177/Python_for_Biologists/python_for_biologists_examples_and_exercises/Chapter 3/examples/dna.txt\")"
   ]
  },
  {
   "cell_type": "code",
   "execution_count": 5,
   "metadata": {
    "collapsed": false
   },
   "outputs": [
    {
     "name": "stdout",
     "output_type": "stream",
     "text": [
      "ACTGTACGTGCACTGATC\n",
      "\n"
     ]
    }
   ],
   "source": [
    "file_contents = my_file.read()\n",
    "print(file_contents)"
   ]
  },
  {
   "cell_type": "code",
   "execution_count": 9,
   "metadata": {
    "collapsed": false
   },
   "outputs": [
    {
     "name": "stdout",
     "output_type": "stream",
     "text": [
      "sequence is ACTGTACGTGCACTGATC and length is 18\n"
     ]
    }
   ],
   "source": [
    "my_dna = file_contents.rstrip(\"\\n\")\n",
    "dna_length = len(my_dna)\n",
    "print(\"sequence is \" + my_dna + \" and length is \"\n",
    "     + str(dna_length))"
   ]
  },
  {
   "cell_type": "code",
   "execution_count": 12,
   "metadata": {
    "collapsed": true
   },
   "outputs": [],
   "source": [
    "my_file = open(\"/home/eeb177-student/Desktop/eeb-177/Python_for_Biologists/python_for_biologists_examples_and_exercises/Chapter 3/examples/out.txt\", \"w\")"
   ]
  },
  {
   "cell_type": "code",
   "execution_count": 15,
   "metadata": {
    "collapsed": false
   },
   "outputs": [],
   "source": [
    "my_file.write(\"Hello world\")\n",
    "my_file.close()"
   ]
  },
  {
   "cell_type": "code",
   "execution_count": 23,
   "metadata": {
    "collapsed": false
   },
   "outputs": [],
   "source": [
    "#Splitting genomic DNA\n",
    "genomic_dna_file = open(\"/home/eeb177-student/Desktop/eeb-177/Python_for_Biologists/python_for_biologists_examples_and_exercises/Chapter 3/exercises/genomic_dna.txt\")\n",
    "dna = genomic_dna_file.read()\n",
    "exon1 = dna[0:64]\n",
    "exon2 = dna[91:len(dna)]\n",
    "coding = exon1 + exon2\n",
    "intron = dna[64:91]\n",
    "coding_file = open(\"coding_dna.txt\", \"w\")\n",
    "intron_file = open(\"intron_dna.txt\", \"w\")"
   ]
  },
  {
   "cell_type": "code",
   "execution_count": 29,
   "metadata": {
    "collapsed": false
   },
   "outputs": [],
   "source": [
    "coding_file.write(exon1 + exon2)\n",
    "coding_file.close()"
   ]
  },
  {
   "cell_type": "code",
   "execution_count": 30,
   "metadata": {
    "collapsed": false
   },
   "outputs": [],
   "source": [
    "intron_file.write(intron)\n",
    "intron_file.close()"
   ]
  },
  {
   "cell_type": "code",
   "execution_count": 31,
   "metadata": {
    "collapsed": false
   },
   "outputs": [],
   "source": [
    "header1 = \">ABC123\\n\"\n",
    "header2 = \">DEF456\\n\"\n",
    "header3 = \">HIJ789\\n\"\n",
    "DNA1 = \"ATCGTACGATCGATCGATCGCTAGACGTATCG\\n\"\n",
    "DNA2 = \"actgatcgacgatcgatcgatcacgact\\n\"\n",
    "DNA3 = \"ACTGAC-ACTGT--ACTGTA----CATGTG\\n\"\n",
    "fasta_file = open(\"ABC.fasta\", \"w\")\n",
    "fasta_file.write(header1 + DNA1 + header2 + DNA2.upper()\n",
    "                + header3 + DNA3)\n",
    "fasta_file.close()"
   ]
  },
  {
   "cell_type": "code",
   "execution_count": 32,
   "metadata": {
    "collapsed": false
   },
   "outputs": [
    {
     "data": {
      "text/plain": [
       "39"
      ]
     },
     "execution_count": 32,
     "metadata": {},
     "output_type": "execute_result"
    }
   ],
   "source": [
    "ABC123_file = open(\"ABC123.fasta\", \"w\")\n",
    "DEF456_file = open(\"DEF456.fasta\", \"w\")\n",
    "HIJ789_file = open(\"HIJ789.fasta\", \"w\")\n",
    "ABC123_file.write(header1 + DNA1)\n",
    "DEF456_file.write(header2 + DNA2.upper())\n",
    "HIJ789_file.write(header3 + DNA3)"
   ]
  },
  {
   "cell_type": "code",
   "execution_count": 33,
   "metadata": {
    "collapsed": true
   },
   "outputs": [],
   "source": [
    "ABC123_file.close()\n",
    "DEF456_file.close()\n",
    "HIJ789_file.close()"
   ]
  },
  {
   "cell_type": "code",
   "execution_count": 40,
   "metadata": {
    "collapsed": false
   },
   "outputs": [
    {
     "name": "stdout",
     "output_type": "stream",
     "text": [
      "the trimmed sequence length is 42\n",
      "the trimmed sequence length is 37\n",
      "the trimmed sequence length is 48\n",
      "the trimmed sequence length is 33\n",
      "the trimmed sequence length is 47\n"
     ]
    }
   ],
   "source": [
    "#Processing DNA in a file\n",
    "file = open(\"/home/eeb177-student/Desktop/eeb-177/Python_for_Biologists/python_for_biologists_examples_and_exercises/Chapter 4/exercises/input.txt\")\n",
    "removed_adapter = open(\"removed_adapter.txt\", \"w\")\n",
    "for dna in file:\n",
    "    trimmed = dna[15:]\n",
    "    removed_adapter.write(trimmed)\n",
    "    print(\"the trimmed sequence length is \" + str(len(trimmed)))\n",
    "    \n",
    "removed_adapter.close()"
   ]
  },
  {
   "cell_type": "code",
   "execution_count": 56,
   "metadata": {
    "collapsed": false
   },
   "outputs": [
    {
     "name": "stdout",
     "output_type": "stream",
     "text": [
      "Coding sequence is: CGTACCGTCGACGATGCTACGATCGTCGATCGTAGTCGATCATCGATCGATCG\n",
      "Coding sequence is: CGATCGATCGATATCGATCGATATCATCGATGCATCGATCATCGATCGATCGATCGATCGA\n",
      "Coding sequence is: CGATCGATCGATCGTAGCTAGCTAGCTAGATCGATCATCATCGTAGCTAGCTCGACTAGCTACGTACGATCGATGCATCGATCGTA\n",
      "Coding sequence is: CGATCGATCGATCGATCGATCGATCGATCGATCGATCGATCGTAGCTAGCTACGATCG\n",
      "The final sequence is CGTACCGTCGACGATGCTACGATCGTCGATCGTAGTCGATCATCGATCGATCGCGATCGATCGATATCGATCGATATCATCGATGCATCGATCATCGATCGATCGATCGATCGACGATCGATCGATCGTAGCTAGCTAGCTAGATCGATCATCATCGTAGCTAGCTCGACTAGCTACGTACGATCGATGCATCGATCGTACGATCGATCGATCGATCGATCGATCGATCGATCGATCGATCGTAGCTAGCTACGATCG\n"
     ]
    }
   ],
   "source": [
    "#Multiple exons from genomic DNA\n",
    "dna_file = open(\"/home/eeb177-student/Desktop/eeb-177/Python_for_Biologists/python_for_biologists_examples_and_exercises/Chapter 4/exercises/genomic_dna.txt\")\n",
    "dna = dna_file.read()\n",
    "exon_file = open(\"/home/eeb177-student/Desktop/eeb-177/Python_for_Biologists/python_for_biologists_examples_and_exercises/Chapter 4/exercises/exons.txt\")\n",
    "exon_positions = exon_file.readlines()\n",
    "all_exons = []\n",
    "\n",
    "for line in exon_positions:\n",
    "    start_stop = line.split(\",\")\n",
    "    exon = dna[int(start_stop[0]):int(start_stop[1])]\n",
    "    print(\"Coding sequence is: \" + str(exon))\n",
    "    all_exons.append(exon)\n",
    "\n",
    "print(\"The final sequence is \" + \"\".join(all_exons))\n",
    "joined_exons = open(\"joined_exons.txt\", \"w\")\n",
    "joined_exons.write(\"\".join(all_exons))\n",
    "joined_exons.close()"
   ]
  },
  {
   "cell_type": "code",
   "execution_count": null,
   "metadata": {
    "collapsed": true
   },
   "outputs": [],
   "source": []
  }
 ],
 "metadata": {
  "anaconda-cloud": {},
  "kernelspec": {
   "display_name": "Python [default]",
   "language": "python",
   "name": "python3"
  },
  "language_info": {
   "codemirror_mode": {
    "name": "ipython",
    "version": 3
   },
   "file_extension": ".py",
   "mimetype": "text/x-python",
   "name": "python",
   "nbconvert_exporter": "python",
   "pygments_lexer": "ipython3",
   "version": "3.5.2"
  }
 },
 "nbformat": 4,
 "nbformat_minor": 2
}
