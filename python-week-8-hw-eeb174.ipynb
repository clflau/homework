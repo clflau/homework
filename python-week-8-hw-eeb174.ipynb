{
 "cells": [
  {
   "cell_type": "code",
   "execution_count": 168,
   "metadata": {
    "collapsed": false
   },
   "outputs": [],
   "source": [
    "\n",
    "def pbdb_species_dict(infile):\n",
    "    # This function takes a formatted pbdb csv file and extracts the species from fossil occurances and \n",
    "    # constructs a dictionary with values being the mean ages of fossils for that species.\n",
    "    \n",
    "    import re\n",
    "    from collections import defaultdict\n",
    "        \n",
    "    # make a dictionary\n",
    "    species_ranges = defaultdict(list)\n",
    "\n",
    "    species_data = []\n",
    "    with open(infile) as canid_data:\n",
    "        canid_data.readline()\n",
    "        for line in canid_data:\n",
    "            if re.search('species', line): # search for only the entries with species\n",
    "                species_data.append(line)\n",
    "            \n",
    "    for line in species_data:\n",
    "        species = line.split('\",\"')[5]\n",
    "        minage = float(line.split('\",\"')[10])\n",
    "        maxage = float(line.split('\",\"')[11])\n",
    "\n",
    "        mean_age = (minage + maxage) / 2\n",
    "        species_ranges[species].append(mean_age) # add species as key\n",
    "    \n",
    "   \n",
    "    return species_ranges\n",
    "        \n",
    "species_dictionary = pbdb_species_dict(\"canid_pbdb_formatted.csv\")\n",
    "# print(species_dictionary dictionary)"
   ]
  },
  {
   "cell_type": "code",
   "execution_count": 112,
   "metadata": {
    "collapsed": false
   },
   "outputs": [],
   "source": [
    "# species_dictionary.items()"
   ]
  },
  {
   "cell_type": "code",
   "execution_count": 169,
   "metadata": {
    "collapsed": false
   },
   "outputs": [],
   "source": [
    "def min_max_age(dictionary, outfile):\n",
    "    output = open(outfile, \"a\")\n",
    "\n",
    "\n",
    "    for key in dictionary.keys():\n",
    "        ages = dictionary[key]\n",
    "        minage = min(ages)\n",
    "        maxage = max(ages)\n",
    "        # get rid of quotes\n",
    "        newkey = key.replace('\"','')\n",
    "        genus = newkey.split(\" \")[0]\n",
    "#     print(genus, key, minage, maxage)\n",
    "        outline = \"{}, {}, {}, {}\\n\".format(genus, newkey, minage, maxage)\n",
    "\n",
    "        output.write(outline)\n",
    "    output.close()\n",
    "    \n",
    "    # put output file into alphabetic order\n",
    "    with open(outfile, \"r+\") as ff:\n",
    "        ff_list = ff.readlines()\n",
    "        ff_list.sort()\n",
    "        ff.seek(0)\n",
    "        for elem in ff_list:\n",
    "            ff.write(elem)\n",
    "        \n",
    "    \n",
    "min_max_age(species_dictionary, \"canid_range.csv\")\n"
   ]
  },
  {
   "cell_type": "code",
   "execution_count": 136,
   "metadata": {
    "collapsed": false
   },
   "outputs": [],
   "source": [
    "# species_dictionary.items()"
   ]
  },
  {
   "cell_type": "code",
   "execution_count": 165,
   "metadata": {
    "collapsed": false
   },
   "outputs": [
    {
     "data": {
      "text/plain": [
       "'The species with the longest fossil range is Cormocyon copei'"
      ]
     },
     "execution_count": 165,
     "metadata": {},
     "output_type": "execute_result"
    }
   ],
   "source": [
    "def longest_range(dictionary): # this will take the species_dictionary as argument\n",
    "    for key in dictionary.keys():\n",
    "        ages = dictionary[key]\n",
    "        minage = min(ages)\n",
    "        maxage = max(ages)\n",
    "        age_range = maxage - minage\n",
    "        dictionary[key] = age_range\n",
    "    answer = max(dictionary, key = dictionary.get)\n",
    "    return \"The species with the longest fossil range is {}\".format(answer)\n",
    "\n",
    "longest_range(species_dictionary)\n",
    "        "
   ]
  },
  {
   "cell_type": "code",
   "execution_count": null,
   "metadata": {
    "collapsed": true
   },
   "outputs": [],
   "source": []
  }
 ],
 "metadata": {
  "anaconda-cloud": {},
  "kernelspec": {
   "display_name": "Python [default]",
   "language": "python",
   "name": "python3"
  },
  "language_info": {
   "codemirror_mode": {
    "name": "ipython",
    "version": 3
   },
   "file_extension": ".py",
   "mimetype": "text/x-python",
   "name": "python",
   "nbconvert_exporter": "python",
   "pygments_lexer": "ipython3",
   "version": "3.5.2"
  }
 },
 "nbformat": 4,
 "nbformat_minor": 2
}
