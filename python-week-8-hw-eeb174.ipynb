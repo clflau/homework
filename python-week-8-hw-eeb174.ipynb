{
 "cells": [
  {
   "cell_type": "code",
   "execution_count": 110,
   "metadata": {
    "collapsed": false
   },
   "outputs": [],
   "source": [
    "\n",
    "def pbdb_species_dict(infile):\n",
    "    # This function takes a formatted pbdb csv file and extracts the species from fossil occurances and \n",
    "    # constructs a dictionary with values being the mean ages of fossils for that species.\n",
    "    \n",
    "    import re\n",
    "    from collections import defaultdict\n",
    "        \n",
    "    # make a dictionary\n",
    "    species_ranges = defaultdict(list)\n",
    "\n",
    "    species_data = []\n",
    "    with open(infile) as canid_data:\n",
    "        canid_data.readline()\n",
    "        for line in canid_data:\n",
    "            if re.search('species', line): # search for only the entries with species\n",
    "                species_data.append(line)\n",
    "            \n",
    "    for line in species_data:\n",
    "        species = line.split('\",\"')[5]\n",
    "        minage = float(line.split('\",\"')[10])\n",
    "        maxage = float(line.split('\",\"')[11])\n",
    "\n",
    "        mean_age = (minage + maxage) / 2\n",
    "        species_ranges[species].append(mean_age) # add species as key\n",
    "    \n",
    "   \n",
    "    return species_ranges\n",
    "        \n",
    "species_dictionary = pbdb_species_dict(\"canid_pbdb_formatted.csv\")\n",
    "# print(species_dictionary dictionary)"
   ]
  },
  {
   "cell_type": "code",
   "execution_count": 112,
   "metadata": {
    "collapsed": false
   },
   "outputs": [],
   "source": [
    "# species_dictionary.items()"
   ]
  },
  {
   "cell_type": "code",
   "execution_count": 127,
   "metadata": {
    "collapsed": false
   },
   "outputs": [
    {
     "name": "stdout",
     "output_type": "stream",
     "text": [
      "['Aelurodon, Aelurodon asthenostylus, 14.785, 18.2\\n', 'Aelurodon, Aelurodon ferox, 9.25, 14.785\\n', 'Aelurodon, Aelurodon mcgrewi, 14.1815, 14.785\\n', 'Aelurodon, Aelurodon montanensis, 14.785, 14.785\\n', 'Aelurodon, Aelurodon stirtoni, 11.95, 14.785\\n', 'Aelurodon, Aelurodon taxoides, 7.6000000000000005, 14.1815\\n', 'Aelurodon, Aelurodon wheelerianus, 18.2, 18.2\\n', 'Alopex, Alopex lagopus, 0.00585, 1.05\\n', 'Archaeocyon, Archaeocyon falkenbachi, 25.615000000000002, 25.615000000000002\\n', 'Archaeocyon, Archaeocyon leptodus, 25.615000000000002, 32.05\\n', 'Archaeocyon, Archaeocyon pavidus, 25.615000000000002, 32.05\\n', 'Borophagus, Borophagus diversidens, 3.35, 3.35\\n', 'Borophagus, Borophagus dudleyi, 4.4665, 4.4665\\n', 'Borophagus, Borophagus hilli, 3.35, 14.1815\\n', 'Borophagus, Borophagus littoralis, 11.95, 14.1815\\n', 'Borophagus, Borophagus orc, 4.4665, 7.6000000000000005\\n', 'Borophagus, Borophagus parvus, 7.6000000000000005, 7.6000000000000005\\n', 'Borophagus, Borophagus pugnator, 7.6000000000000005, 14.1815\\n', 'Borophagus, Borophagus secundus, 7.6000000000000005, 14.1815\\n', 'Caedocyon, Caedocyon tedfordi, 25.615000000000002, 25.615000000000002\\n', 'Canis, Canis adustus, 0.00585, 3.0940000000000003\\n', 'Canis, Canis anthus, 1.294, 1.294\\n', 'Canis, Canis apolloniensis, 1.6845, 1.6845\\n', 'Canis, Canis armbrusteri, 0.06885, 2.6\\n', 'Canis, Canis aureus, 0.00585, 3.0940000000000003\\n', 'Canis, Canis cedazoensis, 1.05, 1.05\\n', 'Canis, Canis dirus, 0.06885, 1.6845\\n', 'Canis, Canis edwardii, 1.05, 14.1815\\n', 'Canis, Canis familiaris, 0.00585, 1.294\\n', 'Canis, Canis ferox, 3.35, 7.6000000000000005\\n', 'Canis, Canis latrans, 0.00585, 3.35\\n', 'Canis, Canis lepophagus, 0.06885, 7.6000000000000005\\n', 'Canis, Canis lupus, 0.00585, 3.0940000000000003\\n', 'Canis, Canis mesomelas, 0.00585, 3.9605\\n', 'Canis, Canis proplatensis, 1.6845, 1.6845\\n', 'Canis, Canis rufus, 0.06885, 3.35\\n', 'Canis, Canis thooides, 3.35, 3.35\\n', 'Carpocyon, Carpocyon compressus, 13.135000000000002, 14.785\\n', 'Carpocyon, Carpocyon limosus, 7.6000000000000005, 7.6000000000000005\\n', 'Carpocyon, Carpocyon robustus, 11.95, 14.1815\\n', 'Carpocyon, Carpocyon webbi, 7.6000000000000005, 14.785\\n', 'Cerdocyon, Cerdocyon avius, 3.35, 3.9605\\n', 'Cerdocyon, Cerdocyon texanus, 3.35, 7.6000000000000005\\n', 'Cerdocyon, Cerdocyon thous, 0.00585, 0.063\\n', 'Chailicyon, Chailicyon crassidens, 42.900000000000006, 42.900000000000006\\n', 'Chrysocyon, Chrysocyon brachyurus, 1.294, 1.6845\\n', 'Chrysocyon, Chrysocyon nearcticus, 3.35, 3.35\\n', 'Cormocyon, Cormocyon copei, 14.1815, 28.55\\n', 'Cormocyon, Cormocyon haydeni, 22.615000000000002, 25.615000000000002\\n', 'Cubacyon, Cubacyon transversidens, 1.294, 1.294\\n', 'Cuon, Cuon alpinus, 0.06885, 1.29985\\n', 'Cynarctoides, Cynarctoides acridens, 14.785, 25.615000000000002\\n', 'Cynarctoides, Cynarctoides emryi, 18.2, 18.2\\n', 'Cynarctoides, Cynarctoides gawnae, 14.1815, 18.2\\n', 'Cynarctoides, Cynarctoides harlowi, 22.615000000000002, 22.615000000000002\\n', 'Cynarctoides, Cynarctoides lemur, 22.615000000000002, 28.55\\n', 'Cynarctoides, Cynarctoides luskensis, 22.615000000000002, 25.615000000000002\\n', 'Cynarctoides, Cynarctoides roii, 25.615000000000002, 28.55\\n', 'Cynarctoides, Cynarctoides whistleri, 18.2, 18.2\\n', 'Cynarctus, Cynarctus crucidens, 8.470500000000001, 14.1815\\n', 'Cynarctus, Cynarctus galushai, 14.785, 14.785\\n', 'Cynarctus, Cynarctus marylandica, 14.895, 18.205000000000002\\n', 'Cynarctus, Cynarctus saxatilis, 14.785, 14.785\\n', 'Cynarctus, Cynarctus voorhiesi, 11.95, 11.95\\n', 'Cynarctus, Cynarctus wangi, 14.785, 14.785\\n', 'Cynodesmus, Cynodesmus martini, 25.615000000000002, 25.615000000000002\\n', 'Cynodesmus, Cynodesmus thooides, 25.615000000000002, 32.05\\n', 'Cynodictis, Cynodictis lacustris, 35.55, 35.95\\n', 'Cynotherium, Cynotherium sardous, 0.06885, 1.80585\\n', 'Desmocyon, Desmocyon matthewi, 18.2, 18.2\\n', 'Desmocyon, Desmocyon thomsoni, 14.1815, 25.615000000000002\\n', 'Dusicyon, Dusicyon avus, 0.06885, 0.3965\\n', 'Dusicyon, Dusicyon culpaeus, 1.29985, 1.29985\\n', 'Dusicyon, Dusicyon sechurae, 0.39635000000000004, 0.39635000000000004\\n', 'Ectopocynus, Ectopocynus antiquus, 25.615000000000002, 32.05\\n', 'Ectopocynus, Ectopocynus intermedius, 25.615000000000002, 25.615000000000002\\n', 'Ectopocynus, Ectopocynus simplicidens, 18.2, 18.2\\n', 'Enhydrocyon, Enhydrocyon basilatus, 22.615000000000002, 22.615000000000002\\n', 'Enhydrocyon, Enhydrocyon crassidens, 22.615000000000002, 28.55\\n', 'Enhydrocyon, Enhydrocyon pahinsintewakpa, 22.615000000000002, 28.55\\n', 'Enhydrocyon, Enhydrocyon stenocephalus, 25.615000000000002, 25.615000000000002\\n', 'Epicyon, Epicyon aelurodontoides, 7.6000000000000005, 7.6000000000000005\\n', 'Epicyon, Epicyon haydeni, 7.6000000000000005, 18.2\\n', 'Epicyon, Epicyon saevus, 7.6000000000000005, 14.785\\n', 'Eucyon, Eucyon davisi, 3.35, 14.1815\\n', 'Eucyon, Eucyon skinneri, 11.95, 11.95\\n', 'Euoplocyon, Euoplocyon brachygnathus, 14.785, 18.2\\n', 'Euoplocyon, Euoplocyon spissidens, 18.2, 18.2\\n', 'Hesperocyon, Hesperocyon coloradensis, 33.599999999999994, 33.599999999999994\\n', 'Hesperocyon, Hesperocyon gregarius, 32.05, 38.8\\n', 'Leptocyon, Leptocyon delicatus, 25.615000000000002, 25.615000000000002\\n', 'Leptocyon, Leptocyon douglassi, 25.615000000000002, 28.55\\n', 'Leptocyon, Leptocyon gregorii, 22.615000000000002, 22.615000000000002\\n', 'Leptocyon, Leptocyon leidyi, 14.785, 22.615000000000002\\n', 'Leptocyon, Leptocyon matthewi, 9.25, 11.95\\n', 'Leptocyon, Leptocyon mollis, 25.615000000000002, 25.615000000000002\\n', 'Leptocyon, Leptocyon tejonensis, 11.95, 11.95\\n', 'Leptocyon, Leptocyon vafer, 11.95, 14.785\\n', 'Leptocyon, Leptocyon vulpinus, 18.2, 25.615000000000002\\n', 'Lycaon, Lycaon pictus, 0.00585, 1.29985\\n', 'Mesocyon, Mesocyon brachyops, 25.615000000000002, 25.615000000000002\\n', 'Mesocyon, Mesocyon coryphaeus, 25.615000000000002, 25.615000000000002\\n', 'Mesocyon, Mesocyon temnodon, 22.615000000000002, 33.599999999999994\\n', 'Metalopex, Metalopex bakeri, 7.6000000000000005, 7.6000000000000005\\n', 'Metalopex, Metalopex macconnelli, 11.95, 14.1815\\n', 'Metalopex, Metalopex merriami, 7.6000000000000005, 14.1815\\n', 'Metatomarctus, Metatomarctus canavus, 14.1815, 18.2\\n', 'Microtomarctus, Microtomarctus conferta, 14.1815, 18.2\\n', 'Neovulpavus, Neovulpavus washakius, 43.3, 43.3\\n', 'Nyctereutes, Nyctereutes abdeslami, 3.0940000000000003, 3.0940000000000003\\n', 'Nyctereutes, Nyctereutes procyonoides, 0.06885, 1.294\\n', 'Osbornodon, Osbornodon brachypus, 18.2, 22.615000000000002\\n', 'Osbornodon, Osbornodon fricki, 14.785, 18.2\\n', 'Osbornodon, Osbornodon iamonensis, 18.2, 19.5\\n', 'Osbornodon, Osbornodon renjiei, 32.05, 33.599999999999994\\n', 'Osbornodon, Osbornodon scitulus, 18.2, 18.2\\n', 'Osbornodon, Osbornodon sesnoni, 25.615000000000002, 32.05\\n', 'Osbornodon, Osbornodon wangi, 25.615000000000002, 25.615000000000002\\n', 'Otarocyon, Otarocyon cooki, 25.615000000000002, 28.55\\n', 'Otarocyon, Otarocyon macdonaldi, 33.599999999999994, 33.599999999999994\\n', 'Otocyon, Otocyon megalotis, 0.00585, 1.29985\\n', 'Oxetocyon, Oxetocyon cuspidatus, 32.05, 32.05\\n', 'Paracynarctus, Paracynarctus kelloggi, 14.1815, 18.2\\n', 'Paracynarctus, Paracynarctus sinclairi, 14.785, 18.2\\n', 'Paraenhydrocyon, Paraenhydrocyon josephi, 22.615000000000002, 25.615000000000002\\n', 'Paraenhydrocyon, Paraenhydrocyon robustus, 22.615000000000002, 22.615000000000002\\n', 'Paraenhydrocyon, Paraenhydrocyon wallovianus, 22.615000000000002, 25.615000000000002\\n', 'Paratomarctus, Paratomarctus euthos, 9.25, 14.1815\\n', 'Paratomarctus, Paratomarctus temerarius, 9.25, 14.895\\n', 'Philotrox, Philotrox condoni, 25.615000000000002, 28.55\\n', 'Phlaocyon, Phlaocyon achoros, 22.615000000000002, 22.615000000000002\\n', 'Phlaocyon, Phlaocyon annectens, 22.615000000000002, 22.615000000000002\\n', 'Phlaocyon, Phlaocyon latidens, 25.615000000000002, 32.05\\n', 'Phlaocyon, Phlaocyon leucosteus, 18.2, 22.615000000000002\\n', 'Phlaocyon, Phlaocyon mariae, 18.2, 18.2\\n', 'Phlaocyon, Phlaocyon marslandensis, 18.2, 18.2\\n', 'Phlaocyon, Phlaocyon minor, 18.2, 25.615000000000002\\n', 'Phlaocyon, Phlaocyon multicuspus, 22.615000000000002, 22.615000000000002\\n', 'Phlaocyon, Phlaocyon taylori, 25.615000000000002, 27.8\\n', 'Phlaocyon, Phlaocyon yatkolai, 18.2, 18.2\\n', 'Protemnocyon, Protemnocyon inflatus, 33.599999999999994, 33.599999999999994\\n', 'Protepicyon, Protepicyon raki, 14.785, 14.785\\n', 'Protocyon, Protocyon orcesi, 0.39635000000000004, 0.39635000000000004\\n', 'Protocyon, Protocyon tarijensis, 1.6845, 1.6845\\n', 'Protocyon, Protocyon troglodytes, 0.063, 1.294\\n', 'Protomarctus, Protomarctus optatus, 14.1815, 18.205000000000002\\n', 'Psalidocyon, Psalidocyon marianae, 14.785, 18.2\\n', 'Pseudalopex, Pseudalopex gymnocercus, 0.00585, 1.6845\\n', 'Rhizocyon, Rhizocyon oregonensis, 25.615000000000002, 25.615000000000002\\n', 'Speothos, Speothos venaticus, 0.00585, 0.00585\\n', 'Sunkahetanka, Sunkahetanka geringensis, 25.615000000000002, 28.55\\n', 'Tephrocyon, Tephrocyon rurestris, 14.1815, 14.785\\n', 'Theriodictis, Theriodictis floridanus, 3.35, 3.35\\n', 'Tomarctus, Tomarctus brevirostris, 14.1815, 18.2\\n', 'Tomarctus, Tomarctus hippophaga, 14.1815, 18.2\\n', 'Urocyon, Urocyon cinereoargenteus, 0.00585, 3.35\\n', 'Urocyon, Urocyon citrinus, 3.35, 3.35\\n', 'Urocyon, Urocyon galushai, 3.35, 3.35\\n', 'Urocyon, Urocyon minicephalus, 1.05, 1.05\\n', 'Urocyon, Urocyon progressus, 3.35, 3.35\\n', 'Urocyon, Urocyon webbi, 7.6000000000000005, 7.6000000000000005\\n', 'Vulpes, Vulpes cascadensis, 0.06885, 0.06885\\n', 'Vulpes, Vulpes chama, 0.00585, 1.6845\\n', 'Vulpes, Vulpes kernensis, 11.95, 11.95\\n', 'Vulpes, Vulpes mathisoni, 4.4665, 4.4665\\n', 'Vulpes, Vulpes stenognathus, 1.05, 14.785\\n', 'Vulpes, Vulpes velox, 0.063, 3.35\\n', 'Vulpes, Vulpes vulpes macroura, 0.06885, 0.06885\\n', 'Vulpes, Vulpes vulpes, 0.00585, 2.894\\n', 'Xenocyon, Xenocyon lycaonoides, 0.4535, 1.6845\\n', 'Xenocyon, Xenocyon texanus, 1.05, 1.05\\n']\n"
     ]
    }
   ],
   "source": [
    "def min_max_age(dictionary, outfile):\n",
    "    output = open(outfile, \"a\")\n",
    "\n",
    "\n",
    "    for key in dictionary.keys():\n",
    "        ages = dictionary[key]\n",
    "        minage = min(ages)\n",
    "        maxage = max(ages)\n",
    "        # get rid of quotes\n",
    "        newkey = key.replace('\"','')\n",
    "        genus = newkey.split(\" \")[0]\n",
    "#     print(genus, key, minage, maxage)\n",
    "        outline = \"{}, {}, {}, {}\\n\".format(genus, newkey, minage, maxage)\n",
    "\n",
    "        output.write(outline)\n",
    "    output.close()\n",
    "    \n",
    "    # put output file into alphabetic order\n",
    "    with open(outfile, \"r+\") as ff:\n",
    "        ff_list = ff.readlines()\n",
    "        ff_list.sort()\n",
    "        print(ff_list)\n",
    "        ff.seek(0)\n",
    "        for elem in ff_list:\n",
    "            ff.write(elem)\n",
    "        \n",
    "    \n",
    "min_max_age(species_dictionary, \"out.txt\")\n"
   ]
  },
  {
   "cell_type": "code",
   "execution_count": null,
   "metadata": {
    "collapsed": true
   },
   "outputs": [],
   "source": []
  }
 ],
 "metadata": {
  "anaconda-cloud": {},
  "kernelspec": {
   "display_name": "Python [default]",
   "language": "python",
   "name": "python3"
  },
  "language_info": {
   "codemirror_mode": {
    "name": "ipython",
    "version": 3
   },
   "file_extension": ".py",
   "mimetype": "text/x-python",
   "name": "python",
   "nbconvert_exporter": "python",
   "pygments_lexer": "ipython3",
   "version": "3.5.2"
  }
 },
 "nbformat": 4,
 "nbformat_minor": 2
}
