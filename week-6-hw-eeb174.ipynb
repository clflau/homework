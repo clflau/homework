{
 "cells": [
  {
   "cell_type": "markdown",
   "metadata": {},
   "source": [
    "# Part 1: Code Academy Review\n",
    "\n",
    "\n",
    "![Python syntax](/home/eeb177-student/Desktop/eeb-177/homework/codeacademy/python_syntax.png)\n",
    "![String and console output](/home/eeb177-student/Desktop/eeb-177/homework/codeacademy/string_and_console.png)\n",
    "![Conditionals and Control flow](/home/eeb177-student/Desktop/eeb-177/homework/codeacademy/conditional_and_flow.png)\n",
    "![Functions](/home/eeb177-student/Desktop/eeb-177/homework/codeacademy/functions.png)\n",
    "![Python Lists and Dictionaries](/home/eeb177-student/Desktop/eeb-177/homework/codeacademy/python_lists_and _dictionary.png)\n",
    "![Lists and functions](/home/eeb177-student/Desktop/eeb-177/homework/codeacademy/lists_and_functions.png)\n",
    "![Loops](/home/eeb177-student/Desktop/eeb-177/homework/codeacademy/loops.png)\n",
    "![Practice makes perfect](/home/eeb177-student/Desktop/eeb-177/homework/codeacademy/practice_makes_perfect.png)"
   ]
  },
  {
   "cell_type": "code",
   "execution_count": null,
   "metadata": {
    "collapsed": true
   },
   "outputs": [],
   "source": []
  }
 ],
 "metadata": {
  "anaconda-cloud": {},
  "kernelspec": {
   "display_name": "Python [default]",
   "language": "python",
   "name": "python3"
  },
  "language_info": {
   "codemirror_mode": {
    "name": "ipython",
    "version": 3
   },
   "file_extension": ".py",
   "mimetype": "text/x-python",
   "name": "python",
   "nbconvert_exporter": "python",
   "pygments_lexer": "ipython3",
   "version": "3.5.2"
  }
 },
 "nbformat": 4,
 "nbformat_minor": 2
}
