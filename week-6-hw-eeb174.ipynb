{
 "cells": [
  {
   "cell_type": "markdown",
   "metadata": {},
   "source": [
    "# Part 1: Code Academy Review\n",
    "\n",
    "\n",
    "![Python syntax](python_syntax.png)\n",
    "![String and console output](string_and_console.png?raw=true)\n",
    "![Conditionals and Control flow](conditional_and_flow.png?raw=true)\n",
    "![Functions](functions.png?raw=true)\n",
    "![Python Lists and Dictionaries](python_lists_and _dictionary.png?raw=true)\n",
    "![Lists and functions](lists_and_functions.png?raw=true)\n",
    "![Loops](loops.png?raw=true)\n",
    "![Practice makes perfect](practice_makes_perfect.png?raw=true)\n"
   ]
  },
  {
   "cell_type": "markdown",
   "metadata": {
    "collapsed": true
   },
   "source": [
    "# Part II\n",
    "## Python for Biologists\n",
    "\n",
    "### DNA translation\n",
    "\n",
    "```\n",
    "# begin pseudocode\n",
    "# first use .upper() on sequence\n",
    "# open genetic code file into python\n",
    "# for loop to break sequence into list of codons\n",
    "# for loop to run through list to find values from the codon dictionary\n",
    "# concatenate result into string\n",
    "# end psudocode\n",
    "```\n",
    "\n"
   ]
  },
  {
   "cell_type": "code",
   "execution_count": 57,
   "metadata": {
    "collapsed": false
   },
   "outputs": [
    {
     "name": "stdout",
     "output_type": "stream",
     "text": [
      "['R', 'L', 'P', 'V', 'V', 'S']\n"
     ]
    },
    {
     "data": {
      "text/plain": [
       "'RLPVVS'"
      ]
     },
     "execution_count": 57,
     "metadata": {},
     "output_type": "execute_result"
    }
   ],
   "source": [
    "dna = \"AGGTTGCCTGTCGTAAGC\" #use this to test code\n",
    "\n",
    "def translate_dna(dna):\n",
    "    dna = dna.upper()\n",
    "    gencode = {\n",
    "        'ATA':'I', 'ATC':'I', 'ATT':'I', 'ATG':'M',\n",
    "        'ACA':'T', 'ACC':'T', 'ACG':'T', 'ACT':'T',\n",
    "        'AAC':'N', 'AAT':'N', 'AAA':'K', 'AAG':'K',\n",
    "        'AGC':'S', 'AGT':'S', 'AGA':'R', 'AGG':'R',\n",
    "        'CTA':'L', 'CTC':'L', 'CTG':'L', 'CTT':'L',\n",
    "        'CCA':'P', 'CCC':'P', 'CCG':'P', 'CCT':'P',\n",
    "        'CAC':'H', 'CAT':'H', 'CAA':'Q', 'CAG':'Q',\n",
    "        'CGA':'R', 'CGC':'R', 'CGG':'R', 'CGT':'R',\n",
    "        'GTA':'V', 'GTC':'V', 'GTG':'V', 'GTT':'V',\n",
    "        'GCA':'A', 'GCC':'A', 'GCG':'A', 'GCT':'A',\n",
    "        'GAC':'D', 'GAT':'D', 'GAA':'E', 'GAG':'E',\n",
    "        'GGA':'G', 'GGC':'G', 'GGG':'G', 'GGT':'G',\n",
    "        'TCA':'S', 'TCC':'S', 'TCG':'S', 'TCT':'S',\n",
    "        'TTC':'F', 'TTT':'F', 'TTA':'L', 'TTG':'L',\n",
    "        'TAC':'Y', 'TAT':'Y', 'TAA':'_', 'TAG':'_',\n",
    "        'TGC':'C', 'TGT':'C', 'TGA':'_', 'TGG':'W'\n",
    "    }\n",
    "\n",
    "    codon_list = []\n",
    "    \n",
    "    last_codon_start = len(dna) - 2\n",
    "    for ii in range(0, last_codon_start, 3):\n",
    "        codon = dna[ii:ii + 3]\n",
    "        codon_list.append(codon)\n",
    "    aa_list = []\n",
    "    for codon in codon_list:\n",
    "        aa = gencode.get(codon)\n",
    "        aa_list.append(aa)\n",
    "    print (aa_list)\n",
    "    protein = \",\".join(aa_list)\n",
    "    return protein.replace(\",\", \"\")\n",
    "\n",
    "translate_dna(dna)"
   ]
  },
  {
   "cell_type": "markdown",
   "metadata": {
    "collapsed": true
   },
   "source": [
    "# Part III\n",
    "## 1. pop gen simulation"
   ]
  },
  {
   "cell_type": "code",
   "execution_count": 3,
   "metadata": {
    "collapsed": true
   },
   "outputs": [],
   "source": [
    "\n",
    "\n",
    "import scipy # for random numbers\n",
    "\n",
    "def build_population(N, p):\n",
    "    \"\"\"The population consists of N individuals.\n",
    "    Each individual has two chromosomes, containing allele 'A' or 'a',\n",
    "    with prob p and 1-p\n",
    "    \"\"\"\n",
    "    \n",
    "    population = []\n",
    "    for i in range(N):\n",
    "        allele1 = \"A\"\n",
    "        if scipy.random.rand() > p:\n",
    "            allele1 = \"a\"\n",
    "        allele2 = \"A\"\n",
    "        if scipy.random.rand() > p:\n",
    "            allele2 = \"a\"\n",
    "        population.append((allele1, allele2))\n",
    "    return population\n"
   ]
  },
  {
   "cell_type": "code",
   "execution_count": 4,
   "metadata": {
    "collapsed": false
   },
   "outputs": [
    {
     "data": {
      "text/plain": [
       "[('A', 'A'),\n",
       " ('A', 'a'),\n",
       " ('A', 'A'),\n",
       " ('A', 'A'),\n",
       " ('A', 'A'),\n",
       " ('A', 'a'),\n",
       " ('A', 'A'),\n",
       " ('a', 'A'),\n",
       " ('A', 'A'),\n",
       " ('a', 'A')]"
      ]
     },
     "execution_count": 4,
     "metadata": {},
     "output_type": "execute_result"
    }
   ],
   "source": [
    "build_population(10, 0.7)"
   ]
  },
  {
   "cell_type": "code",
   "execution_count": 5,
   "metadata": {
    "collapsed": true
   },
   "outputs": [],
   "source": [
    "def compute_freq(population):\n",
    "    \"\"\"Count the genotypes\n",
    "    Returns a dictionary with counts for each genotypes\"\"\"\n",
    "    \n",
    "    AA = population.count(('A', 'A'))\n",
    "    Aa = population.count(('A', 'a'))\n",
    "    aA = population.count(('a', 'A'))\n",
    "    aa = population.count(('a', 'a'))\n",
    "    return({'AA': AA,\n",
    "    'aa': aa,\n",
    "    'Aa': Aa,\n",
    "    'aA': aA})"
   ]
  },
  {
   "cell_type": "code",
   "execution_count": 8,
   "metadata": {
    "collapsed": false
   },
   "outputs": [
    {
     "name": "stdout",
     "output_type": "stream",
     "text": [
      "[('A', 'a'), ('a', 'a'), ('A', 'a'), ('A', 'a'), ('A', 'a'), ('a', 'A')]\n"
     ]
    },
    {
     "data": {
      "text/plain": [
       "{'AA': 0, 'Aa': 4, 'aA': 1, 'aa': 1}"
      ]
     },
     "execution_count": 8,
     "metadata": {},
     "output_type": "execute_result"
    }
   ],
   "source": [
    "my_pop = build_population(6, 0.5)\n",
    "print(my_pop)\n",
    "compute_freq(my_pop)"
   ]
  },
  {
   "cell_type": "code",
   "execution_count": 9,
   "metadata": {
    "collapsed": true
   },
   "outputs": [],
   "source": [
    "def reproduce_population(population):\n",
    "    \"\"\" Create new generation through sexual reproduction.\n",
    "    For each of N new offspring:\n",
    "    - Choose the parents at random\n",
    "    - The offspring receives a chromosome from each of the parent\"\"\"\n",
    "    new_gen = []\n",
    "    NN = len(population)\n",
    "    for ii in range(NN):\n",
    "        dad = scipy.random.randint(NN)\n",
    "        mom = scipy.random.randint(NN)\n",
    "        chr_mom = scipy.random.randint(2)\n",
    "        offspring = (population[mom][chr_mom], population[dad][1-chr_mom])\n",
    "        \"\"\" Why is chromosome from dad chosen based on 1-chr_mom?\n",
    "        Chromosome from dad should be independent of chromosome from mom!\"\"\"\n",
    "        new_gen.append(offspring)\n",
    "    return(new_gen)"
   ]
  },
  {
   "cell_type": "code",
   "execution_count": 10,
   "metadata": {
    "collapsed": false
   },
   "outputs": [
    {
     "data": {
      "text/plain": [
       "[('a', 'A'), ('a', 'A'), ('a', 'A'), ('A', 'a'), ('a', 'A'), ('a', 'A')]"
      ]
     },
     "execution_count": 10,
     "metadata": {},
     "output_type": "execute_result"
    }
   ],
   "source": [
    "reproduce_population(my_pop)"
   ]
  },
  {
   "cell_type": "code",
   "execution_count": 11,
   "metadata": {
    "collapsed": true
   },
   "outputs": [],
   "source": [
    "import drift"
   ]
  },
  {
   "cell_type": "code",
   "execution_count": 12,
   "metadata": {
    "collapsed": true
   },
   "outputs": [],
   "source": [
    "def simulate_drift(N, p):\n",
    "    # initialize population\n",
    "    my_pop = drift.build_population(N, p)\n",
    "    fixation = False\n",
    "    num_gen = 0\n",
    "    while fixation == False:\n",
    "        #compute genotype counts\n",
    "        genotype_counts = drift.compute_freq(my_pop)\n",
    "        #end simulation when one allele reaches fixation\n",
    "        if genotype_counts['AA'] == N or genotype_counts['aa'] == N:\n",
    "            print(\"An allele reached fixation at generation:\", num_gen)\n",
    "            print(\"The genotype counts are:\")\n",
    "            print(genotype_counts)\n",
    "            fixation == True\n",
    "            break\n",
    "        my_pop = drift.reproduce_population(my_pop)\n",
    "        num_gen = num_gen + 1"
   ]
  },
  {
   "cell_type": "code",
   "execution_count": 13,
   "metadata": {
    "collapsed": false
   },
   "outputs": [
    {
     "name": "stdout",
     "output_type": "stream",
     "text": [
      "An allele reached fixation at generation: 208\n",
      "The genotype counts are:\n",
      "{'Aa': 0, 'aA': 0, 'AA': 0, 'aa': 100}\n"
     ]
    }
   ],
   "source": [
    "simulate_drift(100, 0.5)"
   ]
  },
  {
   "cell_type": "code",
   "execution_count": 14,
   "metadata": {
    "collapsed": false
   },
   "outputs": [
    {
     "name": "stdout",
     "output_type": "stream",
     "text": [
      "An allele reached fixation at generation: 64\n",
      "The genotype counts are:\n",
      "{'Aa': 0, 'aA': 0, 'AA': 100, 'aa': 0}\n"
     ]
    }
   ],
   "source": [
    "simulate_drift(100, 0.9)"
   ]
  },
  {
   "cell_type": "markdown",
   "metadata": {},
   "source": [
    "## 2. Do part 1 of question 4.9.1"
   ]
  },
  {
   "cell_type": "code",
   "execution_count": 88,
   "metadata": {
    "collapsed": false,
    "scrolled": true
   },
   "outputs": [],
   "source": [
    "\n",
    "\"\"\"format the Jiang2013_data.csv in terminal to make it \n",
    "comma-separated instead of space-separated using the command:\n",
    "sed 's/\\s/,/g' Jiang2013_data.csv > formatted_Jiang2013_data.csv\n",
    "\"\"\"\n",
    "# Write a function that takes as input the desired Taxon and returns the mean value of r\n",
    "\n",
    "def meanr(xx):\n",
    "    with open(\"formatted_Jiang2013_data.csv\") as data_file:\n",
    "        datalist = data_file.readlines()\n",
    "        datalist = datalist[1:-1] # get rid of header and last empty line\n",
    "        import re\n",
    "        taxon_list = []\n",
    "        for line in datalist:\n",
    "            #for loop to get a list of all the taxa\n",
    "            taxon = re.search(\"\\w*,\\w*,(\\w*)\", line)\n",
    "            taxon_list.append(taxon.group(1))\n",
    "        r_val_list =[]\n",
    "        for line in datalist:\n",
    "            #for loop to get a list of all the r values\n",
    "            r_val = re.search(\"(-*\\d\\.*\\d*)\", line)\n",
    "            r_val_list.append(r_val.group(1))\n",
    "        #make a dictionary\n",
    "        assert len(taxon_list) == len(r_val_list)\n",
    "        taxon_indices = [i for i, x in enumerate(taxon_list)\n",
    "                         if x == xx] # this gives indices of the desired taxon\n",
    "        taxon_r_val = []\n",
    "        for index in taxon_indices:\n",
    "            taxon_r_val.append(float(r_val_list[index]))\n",
    "            # this yields a list of all r values associated with the taxon\n",
    "        mean_r_val = sum(taxon_r_val)/len(taxon_r_val)\n",
    "        return mean_r_val\n",
    "\n"
   ]
  },
  {
   "cell_type": "code",
   "execution_count": 91,
   "metadata": {
    "collapsed": false
   },
   "outputs": [
    {
     "data": {
      "text/plain": [
       "0.19664531553867934"
      ]
     },
     "execution_count": 91,
     "metadata": {},
     "output_type": "execute_result"
    }
   ],
   "source": [
    "meanr(\"Insect\")"
   ]
  },
  {
   "cell_type": "code",
   "execution_count": 92,
   "metadata": {
    "collapsed": false
   },
   "outputs": [
    {
     "data": {
      "text/plain": [
       "0.39719005173783783"
      ]
     },
     "execution_count": 92,
     "metadata": {},
     "output_type": "execute_result"
    }
   ],
   "source": [
    "meanr(\"Fish\")"
   ]
  }
 ],
 "metadata": {
  "anaconda-cloud": {},
  "kernelspec": {
   "display_name": "Python [default]",
   "language": "python",
   "name": "python3"
  },
  "language_info": {
   "codemirror_mode": {
    "name": "ipython",
    "version": 3
   },
   "file_extension": ".py",
   "mimetype": "text/x-python",
   "name": "python",
   "nbconvert_exporter": "python",
   "pygments_lexer": "ipython3",
   "version": "3.5.2"
  }
 },
 "nbformat": 4,
 "nbformat_minor": 2
}
