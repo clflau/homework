{
 "cells": [
  {
   "cell_type": "markdown",
   "metadata": {},
   "source": [
    "# Part 1: Code Academy Review\n",
    "\n",
    "\n",
    "![Python syntax](python_syntax.png)\n",
    "![String and console output](string_and_console.png)\n",
    "![Conditionals and Control flow](conditional_and_flow.png)\n",
    "![Functions](functions.png)\n",
    "![Python Lists and Dictionaries](python_lists_and _dictionary.png)\n",
    "![Lists and functions](lists_and_functions.png)\n",
    "![Loops](loops.png)\n",
    "![Practice makes perfect](practice_makes_perfect.png)\n"
   ]
  },
  {
   "cell_type": "code",
   "execution_count": null,
   "metadata": {
    "collapsed": true
   },
   "outputs": [],
   "source": []
  }
 ],
 "metadata": {
  "anaconda-cloud": {},
  "kernelspec": {
   "display_name": "Python [default]",
   "language": "python",
   "name": "python3"
  },
  "language_info": {
   "codemirror_mode": {
    "name": "ipython",
    "version": 3
   },
   "file_extension": ".py",
   "mimetype": "text/x-python",
   "name": "python",
   "nbconvert_exporter": "python",
   "pygments_lexer": "ipython3",
   "version": "3.5.2"
  }
 },
 "nbformat": 4,
 "nbformat_minor": 2
}
