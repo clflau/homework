{
 "cells": [
  {
   "cell_type": "markdown",
   "metadata": {},
   "source": [
    "# Part 1: Code Academy Review\n",
    "\n",
    "\n",
    "![Python syntax](python_syntax.png?raw=true)\n",
    "![String and console output](string_and_console.png?raw=true)\n",
    "![Conditionals and Control flow](conditional_and_flow.png?raw=true)\n",
    "![Functions](functions.png?raw=true)\n",
    "![Python Lists and Dictionaries](python_lists_and _dictionary.png?raw=true)\n",
    "![Lists and functions](lists_and_functions.png?raw=true)\n",
    "![Loops](loops.png?raw=true)\n",
    "![Practice makes perfect](practice_makes_perfect.png?raw=true)\n"
   ]
  },
  {
   "cell_type": "markdown",
   "metadata": {
    "collapsed": true
   },
   "source": [
    "# Part II\n",
    "## Python for Biologists\n",
    "\n",
    "### DNA translation\n",
    "\n",
    "```\n",
    "# begin pseudocode\n",
    "# first use .upper() on sequence\n",
    "# open genetic code file into python\n",
    "# for loop to break sequence into list of codons\n",
    "# for loop to run through list to find values from the codon dictionary\n",
    "# concatenate result into string\n",
    "# end psudocode\n",
    "```\n",
    "\n"
   ]
  },
  {
   "cell_type": "code",
   "execution_count": 57,
   "metadata": {
    "collapsed": false
   },
   "outputs": [
    {
     "name": "stdout",
     "output_type": "stream",
     "text": [
      "['R', 'L', 'P', 'V', 'V', 'S']\n"
     ]
    },
    {
     "data": {
      "text/plain": [
       "'RLPVVS'"
      ]
     },
     "execution_count": 57,
     "metadata": {},
     "output_type": "execute_result"
    }
   ],
   "source": [
    "dna = \"AGGTTGCCTGTCGTAAGC\" #use this to test code\n",
    "\n",
    "def translate_dna(dna):\n",
    "    dna = dna.upper()\n",
    "    gencode = {\n",
    "        'ATA':'I', 'ATC':'I', 'ATT':'I', 'ATG':'M',\n",
    "        'ACA':'T', 'ACC':'T', 'ACG':'T', 'ACT':'T',\n",
    "        'AAC':'N', 'AAT':'N', 'AAA':'K', 'AAG':'K',\n",
    "        'AGC':'S', 'AGT':'S', 'AGA':'R', 'AGG':'R',\n",
    "        'CTA':'L', 'CTC':'L', 'CTG':'L', 'CTT':'L',\n",
    "        'CCA':'P', 'CCC':'P', 'CCG':'P', 'CCT':'P',\n",
    "        'CAC':'H', 'CAT':'H', 'CAA':'Q', 'CAG':'Q',\n",
    "        'CGA':'R', 'CGC':'R', 'CGG':'R', 'CGT':'R',\n",
    "        'GTA':'V', 'GTC':'V', 'GTG':'V', 'GTT':'V',\n",
    "        'GCA':'A', 'GCC':'A', 'GCG':'A', 'GCT':'A',\n",
    "        'GAC':'D', 'GAT':'D', 'GAA':'E', 'GAG':'E',\n",
    "        'GGA':'G', 'GGC':'G', 'GGG':'G', 'GGT':'G',\n",
    "        'TCA':'S', 'TCC':'S', 'TCG':'S', 'TCT':'S',\n",
    "        'TTC':'F', 'TTT':'F', 'TTA':'L', 'TTG':'L',\n",
    "        'TAC':'Y', 'TAT':'Y', 'TAA':'_', 'TAG':'_',\n",
    "        'TGC':'C', 'TGT':'C', 'TGA':'_', 'TGG':'W'\n",
    "    }\n",
    "\n",
    "    codon_list = []\n",
    "    \n",
    "    last_codon_start = len(dna) - 2\n",
    "    for ii in range(0, last_codon_start, 3):\n",
    "        codon = dna[ii:ii + 3]\n",
    "        codon_list.append(codon)\n",
    "    aa_list = []\n",
    "    for codon in codon_list:\n",
    "        aa = gencode.get(codon)\n",
    "        aa_list.append(aa)\n",
    "    print (aa_list)\n",
    "    protein = \",\".join(aa_list)\n",
    "    return protein.replace(\",\", \"\")\n",
    "\n",
    "translate_dna(dna)"
   ]
  },
  {
   "cell_type": "code",
   "execution_count": null,
   "metadata": {
    "collapsed": true
   },
   "outputs": [],
   "source": []
  }
 ],
 "metadata": {
  "anaconda-cloud": {},
  "kernelspec": {
   "display_name": "Python [default]",
   "language": "python",
   "name": "python3"
  },
  "language_info": {
   "codemirror_mode": {
    "name": "ipython",
    "version": 3
   },
   "file_extension": ".py",
   "mimetype": "text/x-python",
   "name": "python",
   "nbconvert_exporter": "python",
   "pygments_lexer": "ipython3",
   "version": "3.5.2"
  }
 },
 "nbformat": 4,
 "nbformat_minor": 2
}
